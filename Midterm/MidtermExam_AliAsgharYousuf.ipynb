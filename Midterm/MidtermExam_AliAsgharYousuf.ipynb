{
 "cells": [
  {
   "cell_type": "markdown",
   "id": "141c2e55",
   "metadata": {},
   "source": [
    "### Name: Ali Asghar Yousuf\n",
    "### ID: ay06993"
   ]
  },
  {
   "cell_type": "markdown",
   "id": "6ca2bc5d",
   "metadata": {
    "tags": []
   },
   "source": [
    "# healthcare-stroke-data-1.csv"
   ]
  },
  {
   "cell_type": "code",
   "execution_count": 112,
   "id": "c11b6493",
   "metadata": {},
   "outputs": [],
   "source": [
    "import pandas as pd\n",
    "import numpy as np\n",
    "import matplotlib.pyplot as plt\n",
    "import seaborn as sns\n",
    "from scipy import stats\n",
    "file_name = 'healthcare-stroke-data-1.csv'\n",
    "df = pd.read_csv(file_name)"
   ]
  },
  {
   "cell_type": "markdown",
   "id": "9fde5564",
   "metadata": {},
   "source": [
    "Q1. Display the data types of each column"
   ]
  },
  {
   "cell_type": "code",
   "execution_count": 113,
   "id": "dfac64a0",
   "metadata": {},
   "outputs": [
    {
     "name": "stdout",
     "output_type": "stream",
     "text": [
      "<class 'pandas.core.frame.DataFrame'>\n",
      "RangeIndex: 5110 entries, 0 to 5109\n",
      "Data columns (total 12 columns):\n",
      " #   Column             Non-Null Count  Dtype  \n",
      "---  ------             --------------  -----  \n",
      " 0   id                 5110 non-null   int64  \n",
      " 1   gender             5110 non-null   object \n",
      " 2   age                5110 non-null   float64\n",
      " 3   hypertension       5110 non-null   int64  \n",
      " 4   heart_disease      5110 non-null   int64  \n",
      " 5   ever_married       5110 non-null   object \n",
      " 6   work_type          5110 non-null   object \n",
      " 7   Residence_type     5110 non-null   object \n",
      " 8   avg_glucose_level  5110 non-null   float64\n",
      " 9   bmi                4909 non-null   float64\n",
      " 10  fat_percentage     4909 non-null   float64\n",
      " 11  smoking_status     5110 non-null   object \n",
      "dtypes: float64(4), int64(3), object(5)\n",
      "memory usage: 479.2+ KB\n"
     ]
    }
   ],
   "source": [
    "df.info()"
   ]
  },
  {
   "cell_type": "markdown",
   "id": "c877b6e4",
   "metadata": {},
   "source": [
    "Q2. Find the columns with missing values by displaying the total number of records for each column."
   ]
  },
  {
   "cell_type": "code",
   "execution_count": 114,
   "id": "6ed4bef8",
   "metadata": {},
   "outputs": [
    {
     "data": {
      "text/plain": [
       "id                     0\n",
       "gender                 0\n",
       "age                    0\n",
       "hypertension           0\n",
       "heart_disease          0\n",
       "ever_married           0\n",
       "work_type              0\n",
       "Residence_type         0\n",
       "avg_glucose_level      0\n",
       "bmi                  201\n",
       "fat_percentage       201\n",
       "smoking_status         0\n",
       "dtype: int64"
      ]
     },
     "execution_count": 114,
     "metadata": {},
     "output_type": "execute_result"
    }
   ],
   "source": [
    "# df['smoking_status'].replace('?', np.nan, inplace=True)\n",
    "df.isnull().sum()"
   ]
  },
  {
   "cell_type": "markdown",
   "id": "f579f75f",
   "metadata": {},
   "source": [
    "Q3. If there are missing values in any column, replace it with appropriate method of your choice. Explain why did you choose this method? Display the missing value again to show that there are no missing values exist"
   ]
  },
  {
   "cell_type": "markdown",
   "id": "7a45e918",
   "metadata": {},
   "source": [
    "There are missing values in bmi and fat_percentage columns. I have replaced the missing values with the mean of the column for bmi and fat_percentage. I have chosen this method because the mean is the average of the values and it is the most appropriate method to replace the missing values.\n",
    "\n",
    "<!-- I have replaced the missing values in smoking_status with the mode of the column. I have chosen this method because the mode is the most frequently occuring value in the column and it is the most appropriate method to replace the missing values. -->"
   ]
  },
  {
   "cell_type": "code",
   "execution_count": 115,
   "id": "ab547a20",
   "metadata": {},
   "outputs": [
    {
     "data": {
      "text/plain": [
       "id                   0\n",
       "gender               0\n",
       "age                  0\n",
       "hypertension         0\n",
       "heart_disease        0\n",
       "ever_married         0\n",
       "work_type            0\n",
       "Residence_type       0\n",
       "avg_glucose_level    0\n",
       "bmi                  0\n",
       "fat_percentage       0\n",
       "smoking_status       0\n",
       "dtype: int64"
      ]
     },
     "execution_count": 115,
     "metadata": {},
     "output_type": "execute_result"
    }
   ],
   "source": [
    "df['bmi'].fillna(df['bmi'].mean(), inplace=True)\n",
    "# df['smoking_status'].fillna(df['smoking_status'].mode()[0], inplace=True)\n",
    "df['fat_percentage'].fillna(df['fat_percentage'].mean(), inplace=True)\n",
    "df.isnull().sum()\n",
    "# df.head()"
   ]
  },
  {
   "cell_type": "markdown",
   "id": "83815741",
   "metadata": {},
   "source": [
    "Q4. Replace the **'?'** present in the **smoking_status** column with the label **'unknown'**"
   ]
  },
  {
   "cell_type": "code",
   "execution_count": 116,
   "id": "a63740f5",
   "metadata": {},
   "outputs": [],
   "source": [
    "df['smoking_status'].replace('?', 'unknown', inplace=True)"
   ]
  },
  {
   "cell_type": "markdown",
   "id": "63a8596c",
   "metadata": {},
   "source": [
    "Q5. Find the percentage of Females present in the column gender"
   ]
  },
  {
   "cell_type": "code",
   "execution_count": 117,
   "id": "c8d453ea",
   "metadata": {},
   "outputs": [
    {
     "name": "stdout",
     "output_type": "stream",
     "text": [
      "Percentage of females present in the gender column is:  58.590998043052835%\n"
     ]
    }
   ],
   "source": [
    "females = df['gender'][df['gender'] == 'Female'].count()\n",
    "total = df['gender'].count()\n",
    "per = females/total * 100\n",
    "print('Percentage of females present in the gender column is: ', str(per) + '%')\n"
   ]
  },
  {
   "cell_type": "markdown",
   "id": "9c5d7398",
   "metadata": {},
   "source": [
    "Q6. Find all the records which have avg_glucose_level greater than 200"
   ]
  },
  {
   "cell_type": "code",
   "execution_count": 118,
   "id": "76801e31",
   "metadata": {},
   "outputs": [
    {
     "data": {
      "text/html": [
       "<div>\n",
       "<style scoped>\n",
       "    .dataframe tbody tr th:only-of-type {\n",
       "        vertical-align: middle;\n",
       "    }\n",
       "\n",
       "    .dataframe tbody tr th {\n",
       "        vertical-align: top;\n",
       "    }\n",
       "\n",
       "    .dataframe thead th {\n",
       "        text-align: right;\n",
       "    }\n",
       "</style>\n",
       "<table border=\"1\" class=\"dataframe\">\n",
       "  <thead>\n",
       "    <tr style=\"text-align: right;\">\n",
       "      <th></th>\n",
       "      <th>id</th>\n",
       "      <th>gender</th>\n",
       "      <th>age</th>\n",
       "      <th>hypertension</th>\n",
       "      <th>heart_disease</th>\n",
       "      <th>ever_married</th>\n",
       "      <th>work_type</th>\n",
       "      <th>Residence_type</th>\n",
       "      <th>avg_glucose_level</th>\n",
       "      <th>bmi</th>\n",
       "      <th>fat_percentage</th>\n",
       "      <th>smoking_status</th>\n",
       "    </tr>\n",
       "  </thead>\n",
       "  <tbody>\n",
       "    <tr>\n",
       "      <th>0</th>\n",
       "      <td>9046</td>\n",
       "      <td>Male</td>\n",
       "      <td>67.0</td>\n",
       "      <td>0</td>\n",
       "      <td>1</td>\n",
       "      <td>Yes</td>\n",
       "      <td>Private</td>\n",
       "      <td>Urban</td>\n",
       "      <td>228.69</td>\n",
       "      <td>36.600000</td>\n",
       "      <td>43.13000</td>\n",
       "      <td>formerly smoked</td>\n",
       "    </tr>\n",
       "    <tr>\n",
       "      <th>1</th>\n",
       "      <td>51676</td>\n",
       "      <td>Female</td>\n",
       "      <td>61.0</td>\n",
       "      <td>0</td>\n",
       "      <td>0</td>\n",
       "      <td>Yes</td>\n",
       "      <td>Self-employed</td>\n",
       "      <td>Rural</td>\n",
       "      <td>202.21</td>\n",
       "      <td>28.893237</td>\n",
       "      <td>28.33092</td>\n",
       "      <td>never smoked</td>\n",
       "    </tr>\n",
       "    <tr>\n",
       "      <th>13</th>\n",
       "      <td>8213</td>\n",
       "      <td>Male</td>\n",
       "      <td>78.0</td>\n",
       "      <td>0</td>\n",
       "      <td>1</td>\n",
       "      <td>Yes</td>\n",
       "      <td>Private</td>\n",
       "      <td>Urban</td>\n",
       "      <td>219.84</td>\n",
       "      <td>28.893237</td>\n",
       "      <td>28.33092</td>\n",
       "      <td>unknown</td>\n",
       "    </tr>\n",
       "    <tr>\n",
       "      <th>14</th>\n",
       "      <td>5317</td>\n",
       "      <td>Female</td>\n",
       "      <td>79.0</td>\n",
       "      <td>0</td>\n",
       "      <td>1</td>\n",
       "      <td>Yes</td>\n",
       "      <td>Private</td>\n",
       "      <td>Urban</td>\n",
       "      <td>214.09</td>\n",
       "      <td>28.200000</td>\n",
       "      <td>35.81000</td>\n",
       "      <td>never smoked</td>\n",
       "    </tr>\n",
       "    <tr>\n",
       "      <th>17</th>\n",
       "      <td>34120</td>\n",
       "      <td>Male</td>\n",
       "      <td>75.0</td>\n",
       "      <td>1</td>\n",
       "      <td>0</td>\n",
       "      <td>Yes</td>\n",
       "      <td>Private</td>\n",
       "      <td>Urban</td>\n",
       "      <td>221.29</td>\n",
       "      <td>25.800000</td>\n",
       "      <td>32.01000</td>\n",
       "      <td>smokes</td>\n",
       "    </tr>\n",
       "    <tr>\n",
       "      <th>...</th>\n",
       "      <td>...</td>\n",
       "      <td>...</td>\n",
       "      <td>...</td>\n",
       "      <td>...</td>\n",
       "      <td>...</td>\n",
       "      <td>...</td>\n",
       "      <td>...</td>\n",
       "      <td>...</td>\n",
       "      <td>...</td>\n",
       "      <td>...</td>\n",
       "      <td>...</td>\n",
       "      <td>...</td>\n",
       "    </tr>\n",
       "    <tr>\n",
       "      <th>5029</th>\n",
       "      <td>66951</td>\n",
       "      <td>Female</td>\n",
       "      <td>72.0</td>\n",
       "      <td>0</td>\n",
       "      <td>0</td>\n",
       "      <td>Yes</td>\n",
       "      <td>Private</td>\n",
       "      <td>Urban</td>\n",
       "      <td>206.49</td>\n",
       "      <td>26.300000</td>\n",
       "      <td>31.92000</td>\n",
       "      <td>never smoked</td>\n",
       "    </tr>\n",
       "    <tr>\n",
       "      <th>5034</th>\n",
       "      <td>65405</td>\n",
       "      <td>Female</td>\n",
       "      <td>79.0</td>\n",
       "      <td>0</td>\n",
       "      <td>0</td>\n",
       "      <td>No</td>\n",
       "      <td>Private</td>\n",
       "      <td>Urban</td>\n",
       "      <td>253.86</td>\n",
       "      <td>28.800000</td>\n",
       "      <td>36.53000</td>\n",
       "      <td>formerly smoked</td>\n",
       "    </tr>\n",
       "    <tr>\n",
       "      <th>5035</th>\n",
       "      <td>49773</td>\n",
       "      <td>Female</td>\n",
       "      <td>78.0</td>\n",
       "      <td>0</td>\n",
       "      <td>0</td>\n",
       "      <td>Yes</td>\n",
       "      <td>Private</td>\n",
       "      <td>Urban</td>\n",
       "      <td>203.36</td>\n",
       "      <td>28.700000</td>\n",
       "      <td>36.18000</td>\n",
       "      <td>formerly smoked</td>\n",
       "    </tr>\n",
       "    <tr>\n",
       "      <th>5061</th>\n",
       "      <td>38009</td>\n",
       "      <td>Male</td>\n",
       "      <td>41.0</td>\n",
       "      <td>0</td>\n",
       "      <td>0</td>\n",
       "      <td>Yes</td>\n",
       "      <td>Private</td>\n",
       "      <td>Urban</td>\n",
       "      <td>223.78</td>\n",
       "      <td>32.300000</td>\n",
       "      <td>31.99000</td>\n",
       "      <td>never smoked</td>\n",
       "    </tr>\n",
       "    <tr>\n",
       "      <th>5062</th>\n",
       "      <td>11184</td>\n",
       "      <td>Female</td>\n",
       "      <td>82.0</td>\n",
       "      <td>0</td>\n",
       "      <td>0</td>\n",
       "      <td>Yes</td>\n",
       "      <td>Self-employed</td>\n",
       "      <td>Rural</td>\n",
       "      <td>211.58</td>\n",
       "      <td>36.900000</td>\n",
       "      <td>46.94000</td>\n",
       "      <td>never smoked</td>\n",
       "    </tr>\n",
       "  </tbody>\n",
       "</table>\n",
       "<p>434 rows × 12 columns</p>\n",
       "</div>"
      ],
      "text/plain": [
       "         id  gender   age  hypertension  heart_disease ever_married  \\\n",
       "0      9046    Male  67.0             0              1          Yes   \n",
       "1     51676  Female  61.0             0              0          Yes   \n",
       "13     8213    Male  78.0             0              1          Yes   \n",
       "14     5317  Female  79.0             0              1          Yes   \n",
       "17    34120    Male  75.0             1              0          Yes   \n",
       "...     ...     ...   ...           ...            ...          ...   \n",
       "5029  66951  Female  72.0             0              0          Yes   \n",
       "5034  65405  Female  79.0             0              0           No   \n",
       "5035  49773  Female  78.0             0              0          Yes   \n",
       "5061  38009    Male  41.0             0              0          Yes   \n",
       "5062  11184  Female  82.0             0              0          Yes   \n",
       "\n",
       "          work_type Residence_type  avg_glucose_level        bmi  \\\n",
       "0           Private          Urban             228.69  36.600000   \n",
       "1     Self-employed          Rural             202.21  28.893237   \n",
       "13          Private          Urban             219.84  28.893237   \n",
       "14          Private          Urban             214.09  28.200000   \n",
       "17          Private          Urban             221.29  25.800000   \n",
       "...             ...            ...                ...        ...   \n",
       "5029        Private          Urban             206.49  26.300000   \n",
       "5034        Private          Urban             253.86  28.800000   \n",
       "5035        Private          Urban             203.36  28.700000   \n",
       "5061        Private          Urban             223.78  32.300000   \n",
       "5062  Self-employed          Rural             211.58  36.900000   \n",
       "\n",
       "      fat_percentage   smoking_status  \n",
       "0           43.13000  formerly smoked  \n",
       "1           28.33092     never smoked  \n",
       "13          28.33092          unknown  \n",
       "14          35.81000     never smoked  \n",
       "17          32.01000           smokes  \n",
       "...              ...              ...  \n",
       "5029        31.92000     never smoked  \n",
       "5034        36.53000  formerly smoked  \n",
       "5035        36.18000  formerly smoked  \n",
       "5061        31.99000     never smoked  \n",
       "5062        46.94000     never smoked  \n",
       "\n",
       "[434 rows x 12 columns]"
      ]
     },
     "execution_count": 118,
     "metadata": {},
     "output_type": "execute_result"
    }
   ],
   "source": [
    "df[df['avg_glucose_level'] > 200]"
   ]
  },
  {
   "cell_type": "markdown",
   "id": "592a337f",
   "metadata": {},
   "source": [
    "Q7. What is the Average bmi of people whose smoking_status shows **never smoked**?"
   ]
  },
  {
   "cell_type": "code",
   "execution_count": 119,
   "id": "1af9b7ea",
   "metadata": {},
   "outputs": [
    {
     "name": "stdout",
     "output_type": "stream",
     "text": [
      "The average bmi of people who have never smoked is:  29.959529321602425\n"
     ]
    }
   ],
   "source": [
    "bmi = df['bmi'][df['smoking_status'] == 'never smoked'].mean()\n",
    "print('The average bmi of people who have never smoked is: ', bmi)"
   ]
  },
  {
   "cell_type": "markdown",
   "id": "f1295b91",
   "metadata": {},
   "source": [
    "Q8. Find the Max avg_glucose level and Min avg_glucose level record for the people whose smoking_status shows **smokes** "
   ]
  },
  {
   "cell_type": "code",
   "execution_count": 120,
   "id": "c0145249",
   "metadata": {},
   "outputs": [
    {
     "name": "stdout",
     "output_type": "stream",
     "text": [
      "The max avg_glucose level for people who smoke is:  271.74\n",
      "The min avg_glucose level for people who smoke is:  55.32\n"
     ]
    }
   ],
   "source": [
    "max_glucose = df['avg_glucose_level'][df['smoking_status'] == 'smokes'].max()\n",
    "min_glucose = df['avg_glucose_level'][df['smoking_status'] == 'smokes'].min()\n",
    "print('The max avg_glucose level for people who smoke is: ', max_glucose)\n",
    "print('The min avg_glucose level for people who smoke is: ', min_glucose)"
   ]
  },
  {
   "cell_type": "markdown",
   "id": "425be399",
   "metadata": {
    "tags": []
   },
   "source": [
    "Q9. Use any visualization technique (think of any suitable plot) which can justify/show that \"As the fat_percentage increases, the bmi also increases proportionally\". Explain your findings in that plot."
   ]
  },
  {
   "cell_type": "code",
   "execution_count": 121,
   "id": "a5d438b5",
   "metadata": {},
   "outputs": [
    {
     "data": {
      "text/plain": [
       "<Axes: title={'center': 'Fat Percentage vs BMI'}, xlabel='fat_percentage', ylabel='bmi'>"
      ]
     },
     "execution_count": 121,
     "metadata": {},
     "output_type": "execute_result"
    },
    {
     "data": {
      "image/png": "[encoded data removed]",
      "text/plain": [
       "<Figure size 640x480 with 1 Axes>"
      ]
     },
     "metadata": {},
     "output_type": "display_data"
    }
   ],
   "source": [
    "df.plot.scatter(x='fat_percentage', y='bmi', c='red', title='Fat Percentage vs BMI')"
   ]
  },
  {
   "cell_type": "markdown",
   "id": "d0ef0406",
   "metadata": {},
   "source": [
    "We see a very strong correlation between the fat_percentage and bmi. As the fat_percentage increases, the bmi also increases proportionally."
   ]
  },
  {
   "cell_type": "markdown",
   "id": "d82e0105",
   "metadata": {},
   "source": [
    "Q10. Generate a correlation plot and validate the results of previous question. Explain how do you validate it?"
   ]
  },
  {
   "cell_type": "code",
   "execution_count": 122,
   "id": "8444c77f",
   "metadata": {},
   "outputs": [
    {
     "data": {
      "text/plain": [
       "0.9158313622260137"
      ]
     },
     "execution_count": 122,
     "metadata": {},
     "output_type": "execute_result"
    }
   ],
   "source": [
    "# generate a correlation plot and valide the correlation between fat_percentage and bmi\n",
    "df['fat_percentage'].corr(df['bmi'])\n"
   ]
  },
  {
   "cell_type": "markdown",
   "id": "a08c0435",
   "metadata": {},
   "source": [
    "0.9158 shows a very strong correlation between the fat_percentage and bmi. This validates the results of the previous question."
   ]
  },
  {
   "cell_type": "code",
   "execution_count": 123,
   "id": "b25bae0c",
   "metadata": {},
   "outputs": [
    {
     "data": {
      "text/plain": [
       "Text(0.5, 1.0, 'Fat Percentage vs BMI')"
      ]
     },
     "execution_count": 123,
     "metadata": {},
     "output_type": "execute_result"
    },
    {
     "data": {
      "image/png": "[encoded data removed]",
      "text/plain": [
       "<Figure size 640x480 with 1 Axes>"
      ]
     },
     "metadata": {},
     "output_type": "display_data"
    }
   ],
   "source": [
    "# plotting the data\n",
    "x, y = df['fat_percentage'], df['bmi']\n",
    "plt.scatter(x, y)\n",
    "\n",
    "# This will fit the best line into the graph\n",
    "plt.plot(np.unique(x), np.poly1d(np.polyfit(x, y, 1))\n",
    "\t\t(np.unique(x)), color='red')\n",
    "plt.xlabel('fat_percentage')\n",
    "plt.ylabel('bmi')\n",
    "plt.title('Fat Percentage vs BMI')"
   ]
  },
  {
   "cell_type": "markdown",
   "id": "0ddfd3d1",
   "metadata": {},
   "source": [
    "We can further validate the results by looking at this plot."
   ]
  },
  {
   "cell_type": "markdown",
   "id": "44a5b80c",
   "metadata": {},
   "source": [
    "Q11. Also find another interesting insights from correlation plot (other than fat_percentage and bmi)"
   ]
  },
  {
   "cell_type": "code",
   "execution_count": 146,
   "id": "fbd17e8f",
   "metadata": {},
   "outputs": [
    {
     "data": {
      "text/plain": [
       "0.23817111410174327"
      ]
     },
     "execution_count": 146,
     "metadata": {},
     "output_type": "execute_result"
    }
   ],
   "source": [
    "# generate a correlation plot and valide the correlation between fat_percentage and bmi\n",
    "df['avg_glucose_level'].corr(df['age'])\n"
   ]
  },
  {
   "cell_type": "code",
   "execution_count": 147,
   "id": "19a28c9a",
   "metadata": {},
   "outputs": [
    {
     "data": {
      "text/plain": [
       "<Axes: title={'center': 'avg_glucose_level vs age'}, xlabel='avg_glucose_level', ylabel='age'>"
      ]
     },
     "execution_count": 147,
     "metadata": {},
     "output_type": "execute_result"
    },
    {
     "data": {
      "image/png": "[encoded data removed]",
      "text/plain": [
       "<Figure size 640x480 with 1 Axes>"
      ]
     },
     "metadata": {},
     "output_type": "display_data"
    }
   ],
   "source": [
    "df.plot.scatter(x='avg_glucose_level', y='age', c='red', title='avg_glucose_level vs age')"
   ]
  },
  {
   "cell_type": "code",
   "execution_count": 149,
   "id": "5c364881",
   "metadata": {},
   "outputs": [
    {
     "name": "stderr",
     "output_type": "stream",
     "text": [
      "C:\\Users\\ali\\AppData\\Local\\Temp\\ipykernel_24344\\2521666946.py:2: FutureWarning: The default value of numeric_only in DataFrame.corr is deprecated. In a future version, it will default to False. Select only valid columns or specify the value of numeric_only to silence this warning.\n",
      "  df.corr()\n"
     ]
    },
    {
     "data": {
      "text/html": [
       "<div>\n",
       "<style scoped>\n",
       "    .dataframe tbody tr th:only-of-type {\n",
       "        vertical-align: middle;\n",
       "    }\n",
       "\n",
       "    .dataframe tbody tr th {\n",
       "        vertical-align: top;\n",
       "    }\n",
       "\n",
       "    .dataframe thead th {\n",
       "        text-align: right;\n",
       "    }\n",
       "</style>\n",
       "<table border=\"1\" class=\"dataframe\">\n",
       "  <thead>\n",
       "    <tr style=\"text-align: right;\">\n",
       "      <th></th>\n",
       "      <th>id</th>\n",
       "      <th>age</th>\n",
       "      <th>hypertension</th>\n",
       "      <th>heart_disease</th>\n",
       "      <th>avg_glucose_level</th>\n",
       "      <th>bmi</th>\n",
       "      <th>fat_percentage</th>\n",
       "    </tr>\n",
       "  </thead>\n",
       "  <tbody>\n",
       "    <tr>\n",
       "      <th>id</th>\n",
       "      <td>1.000000</td>\n",
       "      <td>0.003538</td>\n",
       "      <td>0.003550</td>\n",
       "      <td>-0.001296</td>\n",
       "      <td>0.001092</td>\n",
       "      <td>0.002999</td>\n",
       "      <td>0.006042</td>\n",
       "    </tr>\n",
       "    <tr>\n",
       "      <th>age</th>\n",
       "      <td>0.003538</td>\n",
       "      <td>1.000000</td>\n",
       "      <td>0.276398</td>\n",
       "      <td>0.263796</td>\n",
       "      <td>0.238171</td>\n",
       "      <td>0.325942</td>\n",
       "      <td>0.668630</td>\n",
       "    </tr>\n",
       "    <tr>\n",
       "      <th>hypertension</th>\n",
       "      <td>0.003550</td>\n",
       "      <td>0.276398</td>\n",
       "      <td>1.000000</td>\n",
       "      <td>0.108306</td>\n",
       "      <td>0.174474</td>\n",
       "      <td>0.160189</td>\n",
       "      <td>0.235536</td>\n",
       "    </tr>\n",
       "    <tr>\n",
       "      <th>heart_disease</th>\n",
       "      <td>-0.001296</td>\n",
       "      <td>0.263796</td>\n",
       "      <td>0.108306</td>\n",
       "      <td>1.000000</td>\n",
       "      <td>0.161857</td>\n",
       "      <td>0.038899</td>\n",
       "      <td>0.133107</td>\n",
       "    </tr>\n",
       "    <tr>\n",
       "      <th>avg_glucose_level</th>\n",
       "      <td>0.001092</td>\n",
       "      <td>0.238171</td>\n",
       "      <td>0.174474</td>\n",
       "      <td>0.161857</td>\n",
       "      <td>1.000000</td>\n",
       "      <td>0.168751</td>\n",
       "      <td>0.227171</td>\n",
       "    </tr>\n",
       "    <tr>\n",
       "      <th>bmi</th>\n",
       "      <td>0.002999</td>\n",
       "      <td>0.325942</td>\n",
       "      <td>0.160189</td>\n",
       "      <td>0.038899</td>\n",
       "      <td>0.168751</td>\n",
       "      <td>1.000000</td>\n",
       "      <td>0.915831</td>\n",
       "    </tr>\n",
       "    <tr>\n",
       "      <th>fat_percentage</th>\n",
       "      <td>0.006042</td>\n",
       "      <td>0.668630</td>\n",
       "      <td>0.235536</td>\n",
       "      <td>0.133107</td>\n",
       "      <td>0.227171</td>\n",
       "      <td>0.915831</td>\n",
       "      <td>1.000000</td>\n",
       "    </tr>\n",
       "  </tbody>\n",
       "</table>\n",
       "</div>"
      ],
      "text/plain": [
       "                         id       age  hypertension  heart_disease  \\\n",
       "id                 1.000000  0.003538      0.003550      -0.001296   \n",
       "age                0.003538  1.000000      0.276398       0.263796   \n",
       "hypertension       0.003550  0.276398      1.000000       0.108306   \n",
       "heart_disease     -0.001296  0.263796      0.108306       1.000000   \n",
       "avg_glucose_level  0.001092  0.238171      0.174474       0.161857   \n",
       "bmi                0.002999  0.325942      0.160189       0.038899   \n",
       "fat_percentage     0.006042  0.668630      0.235536       0.133107   \n",
       "\n",
       "                   avg_glucose_level       bmi  fat_percentage  \n",
       "id                          0.001092  0.002999        0.006042  \n",
       "age                         0.238171  0.325942        0.668630  \n",
       "hypertension                0.174474  0.160189        0.235536  \n",
       "heart_disease               0.161857  0.038899        0.133107  \n",
       "avg_glucose_level           1.000000  0.168751        0.227171  \n",
       "bmi                         0.168751  1.000000        0.915831  \n",
       "fat_percentage              0.227171  0.915831        1.000000  "
      ]
     },
     "execution_count": 149,
     "metadata": {},
     "output_type": "execute_result"
    }
   ],
   "source": [
    "# draw a correlation matrix\n",
    "df.corr()"
   ]
  },
  {
   "cell_type": "markdown",
   "id": "d01a2696",
   "metadata": {},
   "source": [
    "We see a strong correlation between fat_percentage and age"
   ]
  },
  {
   "cell_type": "markdown",
   "id": "f5b8c7f8",
   "metadata": {},
   "source": [
    "Q12. Use a boxplot visualisation technique to see the highest and lowest **fat_percentage** with the marital status (**ever_married**)?"
   ]
  },
  {
   "cell_type": "code",
   "execution_count": 124,
   "id": "03efb1b2",
   "metadata": {},
   "outputs": [
    {
     "data": {
      "text/plain": [
       "<Axes: xlabel='fat_percentage', ylabel='ever_married'>"
      ]
     },
     "execution_count": 124,
     "metadata": {},
     "output_type": "execute_result"
    },
    {
     "data": {
      "image/png": "[encoded data removed]",
      "text/plain": [
       "<Figure size 640x480 with 1 Axes>"
      ]
     },
     "metadata": {},
     "output_type": "display_data"
    }
   ],
   "source": [
    "# Use a boxplot visualisation technique to see the highest and lowest fat_percentage with the marital status ever_married?\n",
    "sns.boxplot(x='fat_percentage', y='ever_married', data=df)"
   ]
  },
  {
   "cell_type": "markdown",
   "id": "89aa3201",
   "metadata": {},
   "source": [
    "The lowest fat percentage for non married people is lower than the lowest fat percentage for married people. The highest fat percentage for non married people is lower than the highest fat percentage for married people except for one outlier."
   ]
  },
  {
   "cell_type": "markdown",
   "id": "6d6943f4",
   "metadata": {},
   "source": [
    "# healthcare-stroke-data-2.csv"
   ]
  },
  {
   "cell_type": "code",
   "execution_count": 125,
   "id": "134d6682",
   "metadata": {},
   "outputs": [],
   "source": [
    "file_name2 = 'healthcare-stroke-data-2.csv'\n",
    "df2 = pd.read_csv(file_name2)"
   ]
  },
  {
   "cell_type": "markdown",
   "id": "e7ec902e",
   "metadata": {},
   "source": [
    "Q13. Join second dataset with first dataset to include the **stroke** column. Find the common column to merge these datasets."
   ]
  },
  {
   "cell_type": "code",
   "execution_count": 126,
   "id": "705e60a1",
   "metadata": {},
   "outputs": [],
   "source": [
    "df_new = pd.merge(df, df2, on='id', how='inner')"
   ]
  },
  {
   "cell_type": "markdown",
   "id": "c335cc82",
   "metadata": {},
   "source": [
    "Q14. Count the number of records for each **stroke** type"
   ]
  },
  {
   "cell_type": "code",
   "execution_count": 127,
   "id": "fc8d7e19",
   "metadata": {},
   "outputs": [
    {
     "data": {
      "text/plain": [
       "0    4861\n",
       "1     249\n",
       "Name: stroke, dtype: int64"
      ]
     },
     "execution_count": 127,
     "metadata": {},
     "output_type": "execute_result"
    }
   ],
   "source": [
    "# count the number of records for each stroke type\n",
    "df_new['stroke'].value_counts()"
   ]
  },
  {
   "cell_type": "markdown",
   "id": "26313c3d",
   "metadata": {},
   "source": [
    "Q15. Replace stroke = 0 to 'No' and stroke = 1 to 'Yes' categories. Count the values again to check if it matches with the previous question"
   ]
  },
  {
   "cell_type": "code",
   "execution_count": 128,
   "id": "5d0db01a",
   "metadata": {},
   "outputs": [],
   "source": [
    "# Q15. Replace stroke = 0 to 'No' and stroke = 1 to 'Yes' categories. Count the values again to check if it matches with the previous question\n",
    "df_new['stroke'].replace(0, 'No', inplace=True)\n",
    "df_new['stroke'].replace(1, 'Yes', inplace=True)"
   ]
  },
  {
   "cell_type": "markdown",
   "id": "fa89abdf",
   "metadata": {},
   "source": [
    "Q16. Make a Distribution plot for **age** and **stroke** together and provide insights on it."
   ]
  },
  {
   "cell_type": "code",
   "execution_count": 135,
   "id": "ad8b9f96",
   "metadata": {},
   "outputs": [
    {
     "name": "stderr",
     "output_type": "stream",
     "text": [
      "C:\\Users\\ali\\AppData\\Local\\Temp\\ipykernel_24344\\3047744163.py:2: UserWarning: \n",
      "\n",
      "`distplot` is a deprecated function and will be removed in seaborn v0.14.0.\n",
      "\n",
      "Please adapt your code to use either `displot` (a figure-level function with\n",
      "similar flexibility) or `histplot` (an axes-level function for histograms).\n",
      "\n",
      "For a guide to updating your code to use the new functions, please see\n",
      "https://gist.github.com/mwaskom/de44147ed2974457ad6372750bbe5751\n",
      "\n",
      "  sns.distplot(df_new['age'][df_new['stroke'] == 'Yes'], color='red')\n"
     ]
    },
    {
     "data": {
      "text/plain": [
       "<Axes: xlabel='age', ylabel='Density'>"
      ]
     },
     "execution_count": 135,
     "metadata": {},
     "output_type": "execute_result"
    },
    {
     "data": {
      "image/png": "[encoded data removed]",
      "text/plain": [
       "<Figure size 640x480 with 1 Axes>"
      ]
     },
     "metadata": {},
     "output_type": "display_data"
    }
   ],
   "source": [
    "# Q16. Make a Distribution plot for **age** and **stroke** together and provide insights on it.\n",
    "sns.distplot(df_new['age'][df_new['stroke'] == 'Yes'], color='red')"
   ]
  },
  {
   "cell_type": "markdown",
   "id": "ec4e8b8c",
   "metadata": {},
   "source": [
    "\n",
    "we can see that as age increases, the number of people having stroke also increases. This shows that age is a factor in stroke.\n",
    "we see the first significant increase in the number of people having stroke at the age of 40. We also notice that beyond the age of 70, the number of people having stroke skyrockets."
   ]
  },
  {
   "cell_type": "markdown",
   "id": "044564d7",
   "metadata": {},
   "source": [
    "Q17. Make a Distribution plot for **work_type** and **stroke** together and provide insights on it."
   ]
  },
  {
   "cell_type": "markdown",
   "id": "c0bcdd02",
   "metadata": {},
   "source": [
    "We cant make a distribution plot for work_type and stroke together because work_type is a categorical variable and stroke is a numerical variable. but we can make a countplot for work_type and stroke together."
   ]
  },
  {
   "cell_type": "code",
   "execution_count": 140,
   "id": "4d06c180",
   "metadata": {},
   "outputs": [
    {
     "data": {
      "text/plain": [
       "<Axes: xlabel='work_type', ylabel='count'>"
      ]
     },
     "execution_count": 140,
     "metadata": {},
     "output_type": "execute_result"
    },
    {
     "data": {
      "image/png": "[encoded data removed]",
      "text/plain": [
       "<Figure size 640x480 with 1 Axes>"
      ]
     },
     "metadata": {},
     "output_type": "display_data"
    }
   ],
   "source": [
    "sns.countplot(x='work_type', hue='stroke', data=df_new)"
   ]
  },
  {
   "cell_type": "markdown",
   "id": "360207fa",
   "metadata": {},
   "source": [
    "We don't see any significant difference in the number of people having stroke based on their work_type. This shows that work_type is not a factor in stroke. The number of people having stroke is higher in private work_type but the number of people working in private work_type is also higher than other work_types so this is not a significant difference."
   ]
  },
  {
   "cell_type": "markdown",
   "id": "d6213f3a",
   "metadata": {},
   "source": [
    "Q18. Find the number of patients for each **gender** and **work_type**. Sort them in ascending order."
   ]
  },
  {
   "cell_type": "code",
   "execution_count": 130,
   "id": "9bef9c2a",
   "metadata": {},
   "outputs": [
    {
     "data": {
      "text/plain": [
       "Female    2994\n",
       "Male      2115\n",
       "Other        1\n",
       "Name: gender, dtype: int64"
      ]
     },
     "execution_count": 130,
     "metadata": {},
     "output_type": "execute_result"
    }
   ],
   "source": [
    "# Q18. Find the number of patients for each **gender** and **work_type**. Sort them in ascending order.\n",
    "df_new['gender'].value_counts()"
   ]
  },
  {
   "cell_type": "markdown",
   "id": "ae2cef57",
   "metadata": {},
   "source": [
    "Q19. Test the Hypothesis and explain your findings: <br> H0: the fat_percentage of **stroke** = Yes and **stroke** = No is same (equal or similar). <br>\n",
    "Ha: the fat_percentage of **stroke** = Yes is greater than **stroke** = No <br>"
   ]
  },
  {
   "cell_type": "code",
   "execution_count": 132,
   "id": "cbd43152",
   "metadata": {},
   "outputs": [
    {
     "name": "stdout",
     "output_type": "stream",
     "text": [
      "T-statistic: 8.718616913648058\n",
      "P-value: 1.8768795501615576e-18\n",
      "Reject null hypothesis\n"
     ]
    }
   ],
   "source": [
    "stroke_yes = df_new[df_new['stroke'] == 'Yes']['fat_percentage']\n",
    "stroke_no = df_new[df_new['stroke'] == 'No']['fat_percentage']\n",
    "\n",
    "t_stat, p_value = stats.ttest_ind(stroke_yes, stroke_no, alternative='greater')\n",
    "print(\"T-statistic:\", t_stat)\n",
    "print(\"P-value:\", p_value)\n",
    "\n",
    "if p_value < 0.05:\n",
    "    print(\"Reject null hypothesis\")\n",
    "else:\n",
    "    print(\"Accept null hypothesis\")"
   ]
  },
  {
   "cell_type": "markdown",
   "id": "04706805",
   "metadata": {},
   "source": [
    "Since our p-value is less than 0.05, we reject the null hypothesis. This means that the fat_percentage of stroke = Yes is greater than stroke = No."
   ]
  },
  {
   "cell_type": "markdown",
   "id": "f3708d73",
   "metadata": {},
   "source": [
    "Q20. Test the Hypothesis and explain your findings: <br> H0: **gender** and **stroke** are independent and are not related to each other <br>\n",
    "Ha: **gender** and **stroke** are dependent and related to each other <br>"
   ]
  },
  {
   "cell_type": "code",
   "execution_count": 133,
   "id": "be3fbc78",
   "metadata": {},
   "outputs": [
    {
     "name": "stdout",
     "output_type": "stream",
     "text": [
      "Chi value: 0.47258662884530234\n",
      "P-value: 0.7895490538408245\n"
     ]
    }
   ],
   "source": [
    "# Q20. Test the Hypothesis and explain your findings: <br> H0: **gender** and **stroke** are independent and are not related to each other <br>\n",
    "# Ha: **gender** and **stroke** are dependent and related to each other <br>\n",
    "contingency_table = pd.crosstab(df_new['gender'], df_new['stroke'])\n",
    "chi2, p_value, _, _ = stats.chi2_contingency(contingency_table)\n",
    "print(\"Chi value:\", chi2)\n",
    "print(\"P-value:\", p_value)\n"
   ]
  },
  {
   "cell_type": "markdown",
   "id": "63e25882",
   "metadata": {},
   "source": [
    "Since our p-value is greater than 0.05, we accept the null hypothesis that gender and stroke are independent and are not related to each other"
   ]
  }
 ],
 "metadata": {
  "kernelspec": {
   "display_name": "Python 3 (ipykernel)",
   "language": "python",
   "name": "python3"
  },
  "language_info": {
   "codemirror_mode": {
    "name": "ipython",
    "version": 3
   },
   "file_extension": ".py",
   "mimetype": "text/x-python",
   "name": "python",
   "nbconvert_exporter": "python",
   "pygments_lexer": "ipython3",
   "version": "3.11.5"
  }
 },
 "nbformat": 4,
 "nbformat_minor": 5
}
