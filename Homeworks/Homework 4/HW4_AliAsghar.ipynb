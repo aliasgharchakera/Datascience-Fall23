{
 "cells": [
  {
   "cell_type": "markdown",
   "metadata": {},
   "source": [
    "# Homework 4\n",
    "## Statistical Inference\n",
    "### Ali Asghar Yousuf\n",
    "### ay06993@st.habib.edu.pk"
   ]
  },
  {
   "cell_type": "code",
   "execution_count": 1,
   "metadata": {},
   "outputs": [],
   "source": [
    "import pandas as pd\n",
    "from scipy import stats"
   ]
  },
  {
   "cell_type": "code",
   "execution_count": 2,
   "metadata": {},
   "outputs": [],
   "source": [
    "file_name = 'EmployeeAttrition.csv'\n",
    "df = pd.read_csv(file_name)"
   ]
  },
  {
   "cell_type": "markdown",
   "metadata": {},
   "source": [
    "### Q1\n",
    "\n",
    "- Null Hypothesis: The MonthlyIncome of Males is less than or equal to Females\n",
    "- Alternate Hypothesis: The MonthlyIncone of Males is greater than Females\n"
   ]
  },
  {
   "cell_type": "code",
   "execution_count": 6,
   "metadata": {},
   "outputs": [
    {
     "name": "stdout",
     "output_type": "stream",
     "text": [
      "t-statistic:  -1.2212617308870655\n",
      "p-value:  0.8889084827245605\n"
     ]
    }
   ],
   "source": [
    "income_m = df[df['Gender'] == 'Male']['MonthlyIncome']\n",
    "income_f = df[df['Gender'] == 'Female']['MonthlyIncome']\n",
    "t_stat, p_val = stats.ttest_ind(income_m, income_f, alternative='greater')\n",
    "\n",
    "print('t-statistic: ', t_stat)\n",
    "print('p-value: ', p_val)"
   ]
  },
  {
   "cell_type": "markdown",
   "metadata": {},
   "source": [
    "Since the p-value is greater than 0.05, we fail to reject the null hypothesis. The MonthlyIncome of Males is less than or equal to Females."
   ]
  },
  {
   "cell_type": "markdown",
   "metadata": {},
   "source": [
    "### Q2\n",
    "\n",
    "- Null Hypothesis: The WorkLifeBalance of Males is greater than or equal to Females\n",
    "- Alternate Hypothesis: The WorkLifeBalance of Males is less than Females\n"
   ]
  },
  {
   "cell_type": "code",
   "execution_count": 9,
   "metadata": {},
   "outputs": [
    {
     "name": "stdout",
     "output_type": "stream",
     "text": [
      "t-statistic:  -0.10546787956064164\n",
      "p-value:  0.45800948246831286\n"
     ]
    }
   ],
   "source": [
    "wlb_m = df[df['Gender'] == 'Male']['WorkLifeBalance']\n",
    "wlb_f = df[df['Gender'] == 'Female']['WorkLifeBalance']\n",
    "t_stat, p_val = stats.ttest_ind(wlb_m, wlb_f, alternative='less')\n",
    "\n",
    "print('t-statistic: ', t_stat)\n",
    "print('p-value: ', p_val)"
   ]
  },
  {
   "cell_type": "markdown",
   "metadata": {},
   "source": [
    "Since the p-value is greater than 0.05, we fail to reject the null hypothesis. The WorkLifeBalance of Males is greater than or equal to Females."
   ]
  },
  {
   "cell_type": "markdown",
   "metadata": {},
   "source": [
    "### Q3\n",
    "\n",
    "- Null Hypothesis: The YearsAtCompany of Single is greater than or equal to Married\n",
    "- Alternate Hypothesis: The YearsAtCompany of Single is less than Married"
   ]
  },
  {
   "cell_type": "code",
   "execution_count": 10,
   "metadata": {},
   "outputs": [
    {
     "name": "stdout",
     "output_type": "stream",
     "text": [
      "t-statistic:  -2.5589985737464476\n",
      "p-value:  0.0053127663549315815\n"
     ]
    }
   ],
   "source": [
    "years_m = df[df['MaritalStatus'] == 'Single']['YearsAtCompany']\n",
    "years_f = df[df['MaritalStatus'] == 'Married']['YearsAtCompany']\n",
    "t_stat, p_val = stats.ttest_ind(years_m, years_f, alternative='less')\n",
    "\n",
    "print('t-statistic: ', t_stat)\n",
    "print('p-value: ', p_val)"
   ]
  },
  {
   "cell_type": "markdown",
   "metadata": {},
   "source": [
    "Since the p-value is less than 0.05, we reject the null hypothesis. The YearsAtCompany of Single is less than Married."
   ]
  },
  {
   "cell_type": "markdown",
   "metadata": {},
   "source": [
    "### Q4\n",
    "\n",
    "- Null Hypothesis: The EnvironmentalSatisfaction of Attrition = Yes is greater than or equal to Attrition = No\n",
    "- Alternate Hypothesis: The EnvironmentalSatisfaction of Attrition = Yes is less than Attrition = No"
   ]
  },
  {
   "cell_type": "code",
   "execution_count": 11,
   "metadata": {},
   "outputs": [
    {
     "name": "stdout",
     "output_type": "stream",
     "text": [
      "t-statistic:  -3.9818600026818496\n",
      "p-value:  3.58616927468443e-05\n"
     ]
    }
   ],
   "source": [
    "es_yes = df[df['Attrition'] == 'Yes']['EnvironmentSatisfaction']\n",
    "es_no = df[df['Attrition'] == 'No']['EnvironmentSatisfaction']\n",
    "t_stat, p_val = stats.ttest_ind(es_yes, es_no, alternative='less')\n",
    "\n",
    "print('t-statistic: ', t_stat)\n",
    "print('p-value: ', p_val)"
   ]
  },
  {
   "cell_type": "markdown",
   "metadata": {},
   "source": [
    "Since the p-value is less than 0.05, we reject the null hypothesis. The EnvironmentalSatisfaction of employees with Attrition = Yes is less than employees with Attrition = No."
   ]
  },
  {
   "cell_type": "markdown",
   "metadata": {},
   "source": [
    "### Q5\n",
    "\n",
    "- Null Hypothesis: The MonthlyIncome of Manager is less than or equal to Laboratory Technician\n",
    "- Alternate Hypothesis: The MonthlyIncome of Manager is greater than Laboratory Technician"
   ]
  },
  {
   "cell_type": "code",
   "execution_count": 12,
   "metadata": {},
   "outputs": [
    {
     "name": "stdout",
     "output_type": "stream",
     "text": [
      "t-statistic:  76.03317414634023\n",
      "p-value:  9.971168334368433e-224\n"
     ]
    }
   ],
   "source": [
    "income_m = df[df['JobRole'] == 'Manager']['MonthlyIncome']\n",
    "income_l = df[df['JobRole'] == 'Laboratory Technician']['MonthlyIncome']\n",
    "t_stat, p_val = stats.ttest_ind(income_m, income_l, alternative='greater')\n",
    "\n",
    "print('t-statistic: ', t_stat)\n",
    "print('p-value: ', p_val)"
   ]
  },
  {
   "cell_type": "markdown",
   "metadata": {},
   "source": [
    "Since the p-value is less than 0.05, we reject the null hypothesis. The MonthlyIncome of Manager is greater than Laboratory Technician."
   ]
  },
  {
   "cell_type": "markdown",
   "metadata": {},
   "source": [
    "### Q6\n",
    "\n",
    "To find the correlation between the Department and Gender, we use the Chi-Square test. The null hypothesis is that the two variables are independent. The alternate hypothesis is that the two variables are dependent."
   ]
  },
  {
   "cell_type": "code",
   "execution_count": 13,
   "metadata": {},
   "outputs": [
    {
     "name": "stdout",
     "output_type": "stream",
     "text": [
      "chi-square:  2.9644916359463056\n",
      "p-value:  0.22712702921028263\n"
     ]
    }
   ],
   "source": [
    "contigency_table = pd.crosstab(df['Department'], df['Gender'])\n",
    "chi, p_val, dof, expected = stats.chi2_contingency(contigency_table)\n",
    "print('chi-square: ', chi)\n",
    "print('p-value: ', p_val)"
   ]
  },
  {
   "cell_type": "markdown",
   "metadata": {},
   "source": [
    "We fail to reject the null hypothesis, so we can conclude that the two variables are independent and no significant correlation exists between them."
   ]
  }
 ],
 "metadata": {
  "kernelspec": {
   "display_name": "Python 3",
   "language": "python",
   "name": "python3"
  },
  "language_info": {
   "codemirror_mode": {
    "name": "ipython",
    "version": 3
   },
   "file_extension": ".py",
   "mimetype": "text/x-python",
   "name": "python",
   "nbconvert_exporter": "python",
   "pygments_lexer": "ipython3",
   "version": "3.11.6"
  },
  "orig_nbformat": 4
 },
 "nbformat": 4,
 "nbformat_minor": 2
}
