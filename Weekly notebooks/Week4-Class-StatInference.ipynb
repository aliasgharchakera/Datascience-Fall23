{
 "cells": [
  {
   "cell_type": "markdown",
   "id": "51325582",
   "metadata": {},
   "source": [
    "# Basic Stats"
   ]
  },
  {
   "cell_type": "code",
   "execution_count": 1,
   "id": "fa52d450",
   "metadata": {},
   "outputs": [],
   "source": [
    "import pandas as pd\n",
    "import numpy as np\n",
    "import seaborn as sns\n",
    "import matplotlib.pyplot as plt\n",
    "from scipy import stats"
   ]
  },
  {
   "cell_type": "code",
   "execution_count": 2,
   "id": "57337b3f",
   "metadata": {},
   "outputs": [],
   "source": [
    "df = pd.read_csv('EmployeeAttrition.csv')"
   ]
  },
  {
   "cell_type": "code",
   "execution_count": 3,
   "id": "f4bd208e",
   "metadata": {},
   "outputs": [
    {
     "data": {
      "text/html": [
       "<div>\n",
       "<style scoped>\n",
       "    .dataframe tbody tr th:only-of-type {\n",
       "        vertical-align: middle;\n",
       "    }\n",
       "\n",
       "    .dataframe tbody tr th {\n",
       "        vertical-align: top;\n",
       "    }\n",
       "\n",
       "    .dataframe thead th {\n",
       "        text-align: right;\n",
       "    }\n",
       "</style>\n",
       "<table border=\"1\" class=\"dataframe\">\n",
       "  <thead>\n",
       "    <tr style=\"text-align: right;\">\n",
       "      <th></th>\n",
       "      <th>Age</th>\n",
       "      <th>BusinessTravel</th>\n",
       "      <th>DailyRate</th>\n",
       "      <th>Department</th>\n",
       "      <th>DistanceFromHome</th>\n",
       "      <th>Education</th>\n",
       "      <th>EducationField</th>\n",
       "      <th>EnvironmentSatisfaction</th>\n",
       "      <th>Gender</th>\n",
       "      <th>HourlyRate</th>\n",
       "      <th>...</th>\n",
       "      <th>StandardHours</th>\n",
       "      <th>StockOptionLevel</th>\n",
       "      <th>TotalWorkingYears</th>\n",
       "      <th>TrainingTimesLastYear</th>\n",
       "      <th>WorkLifeBalance</th>\n",
       "      <th>YearsAtCompany</th>\n",
       "      <th>YearsInCurrentRole</th>\n",
       "      <th>YearsSinceLastPromotion</th>\n",
       "      <th>YearsWithCurrManager</th>\n",
       "      <th>Attrition</th>\n",
       "    </tr>\n",
       "  </thead>\n",
       "  <tbody>\n",
       "    <tr>\n",
       "      <th>0</th>\n",
       "      <td>41</td>\n",
       "      <td>Travel_Rarely</td>\n",
       "      <td>1102</td>\n",
       "      <td>Sales</td>\n",
       "      <td>1</td>\n",
       "      <td>2</td>\n",
       "      <td>Life Sciences</td>\n",
       "      <td>2</td>\n",
       "      <td>Female</td>\n",
       "      <td>94</td>\n",
       "      <td>...</td>\n",
       "      <td>80</td>\n",
       "      <td>0</td>\n",
       "      <td>8</td>\n",
       "      <td>0</td>\n",
       "      <td>1</td>\n",
       "      <td>6</td>\n",
       "      <td>4</td>\n",
       "      <td>0</td>\n",
       "      <td>5</td>\n",
       "      <td>Yes</td>\n",
       "    </tr>\n",
       "    <tr>\n",
       "      <th>1</th>\n",
       "      <td>49</td>\n",
       "      <td>Travel_Frequently</td>\n",
       "      <td>279</td>\n",
       "      <td>Research &amp; Development</td>\n",
       "      <td>8</td>\n",
       "      <td>1</td>\n",
       "      <td>Life Sciences</td>\n",
       "      <td>3</td>\n",
       "      <td>Male</td>\n",
       "      <td>61</td>\n",
       "      <td>...</td>\n",
       "      <td>80</td>\n",
       "      <td>1</td>\n",
       "      <td>10</td>\n",
       "      <td>3</td>\n",
       "      <td>3</td>\n",
       "      <td>10</td>\n",
       "      <td>7</td>\n",
       "      <td>1</td>\n",
       "      <td>7</td>\n",
       "      <td>No</td>\n",
       "    </tr>\n",
       "    <tr>\n",
       "      <th>2</th>\n",
       "      <td>37</td>\n",
       "      <td>Travel_Rarely</td>\n",
       "      <td>1373</td>\n",
       "      <td>Research &amp; Development</td>\n",
       "      <td>2</td>\n",
       "      <td>2</td>\n",
       "      <td>Other</td>\n",
       "      <td>4</td>\n",
       "      <td>Male</td>\n",
       "      <td>92</td>\n",
       "      <td>...</td>\n",
       "      <td>80</td>\n",
       "      <td>0</td>\n",
       "      <td>7</td>\n",
       "      <td>3</td>\n",
       "      <td>3</td>\n",
       "      <td>0</td>\n",
       "      <td>0</td>\n",
       "      <td>0</td>\n",
       "      <td>0</td>\n",
       "      <td>Yes</td>\n",
       "    </tr>\n",
       "    <tr>\n",
       "      <th>3</th>\n",
       "      <td>33</td>\n",
       "      <td>Travel_Frequently</td>\n",
       "      <td>1392</td>\n",
       "      <td>Research &amp; Development</td>\n",
       "      <td>3</td>\n",
       "      <td>4</td>\n",
       "      <td>Life Sciences</td>\n",
       "      <td>4</td>\n",
       "      <td>Female</td>\n",
       "      <td>56</td>\n",
       "      <td>...</td>\n",
       "      <td>80</td>\n",
       "      <td>0</td>\n",
       "      <td>8</td>\n",
       "      <td>3</td>\n",
       "      <td>3</td>\n",
       "      <td>8</td>\n",
       "      <td>7</td>\n",
       "      <td>3</td>\n",
       "      <td>0</td>\n",
       "      <td>No</td>\n",
       "    </tr>\n",
       "    <tr>\n",
       "      <th>4</th>\n",
       "      <td>27</td>\n",
       "      <td>Travel_Rarely</td>\n",
       "      <td>591</td>\n",
       "      <td>Research &amp; Development</td>\n",
       "      <td>2</td>\n",
       "      <td>1</td>\n",
       "      <td>Medical</td>\n",
       "      <td>1</td>\n",
       "      <td>Male</td>\n",
       "      <td>40</td>\n",
       "      <td>...</td>\n",
       "      <td>80</td>\n",
       "      <td>1</td>\n",
       "      <td>6</td>\n",
       "      <td>3</td>\n",
       "      <td>3</td>\n",
       "      <td>2</td>\n",
       "      <td>2</td>\n",
       "      <td>2</td>\n",
       "      <td>2</td>\n",
       "      <td>No</td>\n",
       "    </tr>\n",
       "  </tbody>\n",
       "</table>\n",
       "<p>5 rows × 32 columns</p>\n",
       "</div>"
      ],
      "text/plain": [
       "   Age     BusinessTravel  DailyRate              Department   \n",
       "0   41      Travel_Rarely       1102                   Sales  \\\n",
       "1   49  Travel_Frequently        279  Research & Development   \n",
       "2   37      Travel_Rarely       1373  Research & Development   \n",
       "3   33  Travel_Frequently       1392  Research & Development   \n",
       "4   27      Travel_Rarely        591  Research & Development   \n",
       "\n",
       "   DistanceFromHome  Education EducationField  EnvironmentSatisfaction   \n",
       "0                 1          2  Life Sciences                        2  \\\n",
       "1                 8          1  Life Sciences                        3   \n",
       "2                 2          2          Other                        4   \n",
       "3                 3          4  Life Sciences                        4   \n",
       "4                 2          1        Medical                        1   \n",
       "\n",
       "   Gender  HourlyRate  ...  StandardHours  StockOptionLevel TotalWorkingYears   \n",
       "0  Female          94  ...             80                 0                 8  \\\n",
       "1    Male          61  ...             80                 1                10   \n",
       "2    Male          92  ...             80                 0                 7   \n",
       "3  Female          56  ...             80                 0                 8   \n",
       "4    Male          40  ...             80                 1                 6   \n",
       "\n",
       "   TrainingTimesLastYear WorkLifeBalance  YearsAtCompany  YearsInCurrentRole   \n",
       "0                      0               1               6                   4  \\\n",
       "1                      3               3              10                   7   \n",
       "2                      3               3               0                   0   \n",
       "3                      3               3               8                   7   \n",
       "4                      3               3               2                   2   \n",
       "\n",
       "   YearsSinceLastPromotion YearsWithCurrManager  Attrition  \n",
       "0                        0                    5        Yes  \n",
       "1                        1                    7         No  \n",
       "2                        0                    0        Yes  \n",
       "3                        3                    0         No  \n",
       "4                        2                    2         No  \n",
       "\n",
       "[5 rows x 32 columns]"
      ]
     },
     "execution_count": 3,
     "metadata": {},
     "output_type": "execute_result"
    }
   ],
   "source": [
    "df.head()"
   ]
  },
  {
   "cell_type": "markdown",
   "id": "79129437",
   "metadata": {},
   "source": [
    "# Hypothesis Testing"
   ]
  },
  {
   "cell_type": "markdown",
   "id": "086b8fd1",
   "metadata": {},
   "source": [
    "### 1. One-Sample t-test\n",
    "Example 1.1: One-tailed, one-sample t-test <br>\n",
    "Question: Examines if the average age is less than or equals to 35 <br>\n",
    "H0: The average age <= 35. <br>\n",
    "Ha: the average age > 35.<br> "
   ]
  },
  {
   "cell_type": "code",
   "execution_count": 4,
   "id": "945b0dd2",
   "metadata": {},
   "outputs": [
    {
     "data": {
      "text/plain": [
       "Ttest_1sampResult(statistic=8.074105690924794, pvalue=7.011064450631255e-16)"
      ]
     },
     "execution_count": 4,
     "metadata": {},
     "output_type": "execute_result"
    }
   ],
   "source": [
    "stats.ttest_1samp(df['Age'], 35, alternative=\"greater\")"
   ]
  },
  {
   "cell_type": "markdown",
   "id": "281aeef9",
   "metadata": {},
   "source": [
    "### Conclusion:\n",
    "P-Value < 0.05 => Hence we reject null hypothesis and accept alternative hypothesis to conclude that average age of employee is greater than 35"
   ]
  },
  {
   "cell_type": "markdown",
   "id": "d39d7a78",
   "metadata": {},
   "source": [
    "<b>You can also switch the hypoythesis (alternative)</b> <br>\n",
    "H0: The average age >= 35. <br>\n",
    "Ha: the average age < 35."
   ]
  },
  {
   "cell_type": "code",
   "execution_count": 5,
   "id": "bec97c71",
   "metadata": {},
   "outputs": [
    {
     "data": {
      "text/plain": [
       "Ttest_1sampResult(statistic=8.074105690924794, pvalue=0.9999999999999992)"
      ]
     },
     "execution_count": 5,
     "metadata": {},
     "output_type": "execute_result"
    }
   ],
   "source": [
    "stats.ttest_1samp(df['Age'], 35, alternative=\"less\")"
   ]
  },
  {
   "cell_type": "markdown",
   "id": "ead25be7",
   "metadata": {},
   "source": [
    "### 2. Two-Sample/Two Group t-test\n",
    "Hypothesis tests for mean differences: Paired Data <br>\n",
    "Hypothesis tests for two means: Independent Data <br><br>\n",
    "Example 2.1: two-sample t-test (equal sample sizes) <br><br>\n",
    "H0: the average monthlyIncome of male and female employees (age <= 20) is same (equal or similar). <br>\n",
    "Ha: the average monthlyIncome of male and female employees (age <= 20) is not same (different). <br>"
   ]
  },
  {
   "cell_type": "code",
   "execution_count": 6,
   "id": "d528ad94",
   "metadata": {},
   "outputs": [],
   "source": [
    "male = df[(df['Gender']=='Male') & (df['Age']<20)]['MonthlyIncome']\n",
    "female = df[(df['Gender']=='Female') & (df['Age']<20)]['MonthlyIncome']"
   ]
  },
  {
   "cell_type": "code",
   "execution_count": 7,
   "id": "58bdabcc",
   "metadata": {},
   "outputs": [
    {
     "data": {
      "text/plain": [
       "127    1675\n",
       "177    1102\n",
       "296    1420\n",
       "422    2564\n",
       "457    1878\n",
       "688    2121\n",
       "727    1051\n",
       "828    1904\n",
       "853    2552\n",
       "Name: MonthlyIncome, dtype: int64"
      ]
     },
     "execution_count": 7,
     "metadata": {},
     "output_type": "execute_result"
    }
   ],
   "source": [
    "male"
   ]
  },
  {
   "cell_type": "code",
   "execution_count": 8,
   "id": "395b4128",
   "metadata": {},
   "outputs": [
    {
     "data": {
      "text/plain": [
       "149     1483\n",
       "171     2325\n",
       "301     1200\n",
       "892     1859\n",
       "909     2994\n",
       "972     1611\n",
       "1153    1569\n",
       "1311    1514\n",
       "Name: MonthlyIncome, dtype: int64"
      ]
     },
     "execution_count": 8,
     "metadata": {},
     "output_type": "execute_result"
    }
   ],
   "source": [
    "female"
   ]
  },
  {
   "cell_type": "code",
   "execution_count": 9,
   "id": "ef0017b2",
   "metadata": {},
   "outputs": [
    {
     "data": {
      "text/plain": [
       "Ttest_indResult(statistic=-0.04335872820959084, pvalue=0.9659874992613295)"
      ]
     },
     "execution_count": 9,
     "metadata": {},
     "output_type": "execute_result"
    }
   ],
   "source": [
    "stats.ttest_ind(male, female)"
   ]
  },
  {
   "cell_type": "markdown",
   "id": "37936210",
   "metadata": {},
   "source": [
    "### Conclusion:\n",
    "P-Value > 0.05 => We cannot reject Null hypothesis H0 <br> \n",
    "so H0 is true/valid i.e, the average monthlyIncome of male and female employees (age <= 20) is equal or similar."
   ]
  },
  {
   "cell_type": "markdown",
   "id": "ab30256e",
   "metadata": {},
   "source": [
    "## Chi-Square Test"
   ]
  },
  {
   "cell_type": "markdown",
   "id": "c71122c1",
   "metadata": {},
   "source": [
    "#### In general, we prove the following in Chi-Square Test\n",
    "H0 (Null Hypothesis) = The 2 variables to be compared are independent. <br>\n",
    "H1 (Alternate Hypothesis) = The 2 variables are dependent. <br><br>\n",
    "Example 3.1: <br>\n",
    "H0: Department and Gender are independent and are not related to each other <br>\n",
    "Ha: Department and Gender are dependent and related to each other <br>"
   ]
  },
  {
   "cell_type": "code",
   "execution_count": 28,
   "id": "0ce2d51b",
   "metadata": {},
   "outputs": [],
   "source": [
    "chisqt = pd.crosstab(df['Department'],df['Gender'], margins=True)"
   ]
  },
  {
   "cell_type": "code",
   "execution_count": 29,
   "id": "d9fb1314",
   "metadata": {},
   "outputs": [
    {
     "data": {
      "text/html": [
       "<div>\n",
       "<style scoped>\n",
       "    .dataframe tbody tr th:only-of-type {\n",
       "        vertical-align: middle;\n",
       "    }\n",
       "\n",
       "    .dataframe tbody tr th {\n",
       "        vertical-align: top;\n",
       "    }\n",
       "\n",
       "    .dataframe thead th {\n",
       "        text-align: right;\n",
       "    }\n",
       "</style>\n",
       "<table border=\"1\" class=\"dataframe\">\n",
       "  <thead>\n",
       "    <tr style=\"text-align: right;\">\n",
       "      <th>Gender</th>\n",
       "      <th>Female</th>\n",
       "      <th>Male</th>\n",
       "      <th>All</th>\n",
       "    </tr>\n",
       "    <tr>\n",
       "      <th>Department</th>\n",
       "      <th></th>\n",
       "      <th></th>\n",
       "      <th></th>\n",
       "    </tr>\n",
       "  </thead>\n",
       "  <tbody>\n",
       "    <tr>\n",
       "      <th>Human Resources</th>\n",
       "      <td>20</td>\n",
       "      <td>43</td>\n",
       "      <td>63</td>\n",
       "    </tr>\n",
       "    <tr>\n",
       "      <th>Research &amp; Development</th>\n",
       "      <td>379</td>\n",
       "      <td>582</td>\n",
       "      <td>961</td>\n",
       "    </tr>\n",
       "    <tr>\n",
       "      <th>Sales</th>\n",
       "      <td>189</td>\n",
       "      <td>257</td>\n",
       "      <td>446</td>\n",
       "    </tr>\n",
       "    <tr>\n",
       "      <th>All</th>\n",
       "      <td>588</td>\n",
       "      <td>882</td>\n",
       "      <td>1470</td>\n",
       "    </tr>\n",
       "  </tbody>\n",
       "</table>\n",
       "</div>"
      ],
      "text/plain": [
       "Gender                  Female  Male   All\n",
       "Department                                \n",
       "Human Resources             20    43    63\n",
       "Research & Development     379   582   961\n",
       "Sales                      189   257   446\n",
       "All                        588   882  1470"
      ]
     },
     "execution_count": 29,
     "metadata": {},
     "output_type": "execute_result"
    }
   ],
   "source": [
    "chisqt"
   ]
  },
  {
   "cell_type": "code",
   "execution_count": 30,
   "id": "706ef12c",
   "metadata": {},
   "outputs": [
    {
     "data": {
      "text/plain": [
       "(2.9644916359463056,\n",
       " 0.8132901408044013,\n",
       " 6,\n",
       " array([[  25.2,   37.8,   63. ],\n",
       "        [ 384.4,  576.6,  961. ],\n",
       "        [ 178.4,  267.6,  446. ],\n",
       "        [ 588. ,  882. , 1470. ]]))"
      ]
     },
     "execution_count": 30,
     "metadata": {},
     "output_type": "execute_result"
    }
   ],
   "source": [
    "stats.chi2_contingency(chisqt)"
   ]
  },
  {
   "cell_type": "code",
   "execution_count": 31,
   "id": "762dcdfe",
   "metadata": {},
   "outputs": [],
   "source": [
    "chi2, p, dof, ex = stats.chi2_contingency(value)"
   ]
  },
  {
   "cell_type": "code",
   "execution_count": 32,
   "id": "66384db3",
   "metadata": {},
   "outputs": [
    {
     "data": {
      "text/plain": [
       "1.4709421142834458"
      ]
     },
     "execution_count": 32,
     "metadata": {},
     "output_type": "execute_result"
    }
   ],
   "source": [
    "chi2"
   ]
  },
  {
   "cell_type": "code",
   "execution_count": 33,
   "id": "508242e7",
   "metadata": {},
   "outputs": [
    {
     "data": {
      "text/plain": [
       "0.47927963769548776"
      ]
     },
     "execution_count": 33,
     "metadata": {},
     "output_type": "execute_result"
    }
   ],
   "source": [
    "p"
   ]
  },
  {
   "cell_type": "markdown",
   "id": "d27c84e5",
   "metadata": {},
   "source": [
    "Above is the p-value"
   ]
  },
  {
   "cell_type": "markdown",
   "id": "9da8dfda",
   "metadata": {},
   "source": [
    "<b> From above, 0.4792 is the p-value. As the p-value is greater than 0.05, we accept the NULL hypothesis and conclude that the variables ‘Department’ and ‘Gender’ are independent of each other and have no significant relationship."
   ]
  }
 ],
 "metadata": {
  "kernelspec": {
   "display_name": "Python 3 (ipykernel)",
   "language": "python",
   "name": "python3"
  },
  "language_info": {
   "codemirror_mode": {
    "name": "ipython",
    "version": 3
   },
   "file_extension": ".py",
   "mimetype": "text/x-python",
   "name": "python",
   "nbconvert_exporter": "python",
   "pygments_lexer": "ipython3",
   "version": "3.8.8"
  }
 },
 "nbformat": 4,
 "nbformat_minor": 5
}
